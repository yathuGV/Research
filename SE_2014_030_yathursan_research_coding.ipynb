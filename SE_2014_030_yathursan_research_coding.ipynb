{
 "cells": [
  {
   "cell_type": "code",
   "execution_count": 1,
   "metadata": {},
   "outputs": [],
   "source": [
    "#insert the libraries\n",
    "\n",
    "import numpy as np\n",
    "import pandas as pd\n",
    "import matplotlib.pyplot as plt\n",
    "import seaborn as sns\n",
    "import matplotlib.pyplot as plt"
   ]
  },
  {
   "cell_type": "code",
   "execution_count": 2,
   "metadata": {
    "scrolled": true
   },
   "outputs": [
    {
     "data": {
      "text/html": [
       "<div>\n",
       "<style scoped>\n",
       "    .dataframe tbody tr th:only-of-type {\n",
       "        vertical-align: middle;\n",
       "    }\n",
       "\n",
       "    .dataframe tbody tr th {\n",
       "        vertical-align: top;\n",
       "    }\n",
       "\n",
       "    .dataframe thead th {\n",
       "        text-align: right;\n",
       "    }\n",
       "</style>\n",
       "<table border=\"1\" class=\"dataframe\">\n",
       "  <thead>\n",
       "    <tr style=\"text-align: right;\">\n",
       "      <th></th>\n",
       "      <th>Rainfall</th>\n",
       "      <th>RH</th>\n",
       "      <th>Temp</th>\n",
       "      <th>Yield</th>\n",
       "    </tr>\n",
       "  </thead>\n",
       "  <tbody>\n",
       "    <tr>\n",
       "      <th>0</th>\n",
       "      <td>159.8</td>\n",
       "      <td>82.34</td>\n",
       "      <td>26.77</td>\n",
       "      <td>20117</td>\n",
       "    </tr>\n",
       "    <tr>\n",
       "      <th>1</th>\n",
       "      <td>1064.2</td>\n",
       "      <td>82.34</td>\n",
       "      <td>26.52</td>\n",
       "      <td>20381</td>\n",
       "    </tr>\n",
       "    <tr>\n",
       "      <th>2</th>\n",
       "      <td>1120.7</td>\n",
       "      <td>82.34</td>\n",
       "      <td>26.45</td>\n",
       "      <td>20611</td>\n",
       "    </tr>\n",
       "    <tr>\n",
       "      <th>3</th>\n",
       "      <td>861.3</td>\n",
       "      <td>82.34</td>\n",
       "      <td>26.77</td>\n",
       "      <td>21260</td>\n",
       "    </tr>\n",
       "    <tr>\n",
       "      <th>4</th>\n",
       "      <td>423.8</td>\n",
       "      <td>82.34</td>\n",
       "      <td>26.56</td>\n",
       "      <td>3602</td>\n",
       "    </tr>\n",
       "    <tr>\n",
       "      <th>...</th>\n",
       "      <td>...</td>\n",
       "      <td>...</td>\n",
       "      <td>...</td>\n",
       "      <td>...</td>\n",
       "    </tr>\n",
       "    <tr>\n",
       "      <th>94</th>\n",
       "      <td>185.1</td>\n",
       "      <td>68.94</td>\n",
       "      <td>30.64</td>\n",
       "      <td>97884</td>\n",
       "    </tr>\n",
       "    <tr>\n",
       "      <th>95</th>\n",
       "      <td>471.4</td>\n",
       "      <td>72.13</td>\n",
       "      <td>30.22</td>\n",
       "      <td>95320</td>\n",
       "    </tr>\n",
       "    <tr>\n",
       "      <th>96</th>\n",
       "      <td>319.9</td>\n",
       "      <td>72.06</td>\n",
       "      <td>30.65</td>\n",
       "      <td>40002</td>\n",
       "    </tr>\n",
       "    <tr>\n",
       "      <th>97</th>\n",
       "      <td>413.9</td>\n",
       "      <td>73.39</td>\n",
       "      <td>29.90</td>\n",
       "      <td>94434</td>\n",
       "    </tr>\n",
       "    <tr>\n",
       "      <th>98</th>\n",
       "      <td>141.9</td>\n",
       "      <td>68.58</td>\n",
       "      <td>31.12</td>\n",
       "      <td>83700</td>\n",
       "    </tr>\n",
       "  </tbody>\n",
       "</table>\n",
       "<p>99 rows × 4 columns</p>\n",
       "</div>"
      ],
      "text/plain": [
       "    Rainfall     RH   Temp  Yield\n",
       "0      159.8  82.34  26.77  20117\n",
       "1     1064.2  82.34  26.52  20381\n",
       "2     1120.7  82.34  26.45  20611\n",
       "3      861.3  82.34  26.77  21260\n",
       "4      423.8  82.34  26.56   3602\n",
       "..       ...    ...    ...    ...\n",
       "94     185.1  68.94  30.64  97884\n",
       "95     471.4  72.13  30.22  95320\n",
       "96     319.9  72.06  30.65  40002\n",
       "97     413.9  73.39  29.90  94434\n",
       "98     141.9  68.58  31.12  83700\n",
       "\n",
       "[99 rows x 4 columns]"
      ]
     },
     "metadata": {},
     "output_type": "display_data"
    }
   ],
   "source": [
    "#insert the dataset\n",
    "dataset = pd.read_csv(\"weather_datasets.csv\")\n",
    "pd.options.display.max_columns = None\n",
    "display(dataset)"
   ]
  },
  {
   "cell_type": "code",
   "execution_count": 3,
   "metadata": {},
   "outputs": [
    {
     "data": {
      "text/html": [
       "<div>\n",
       "<style scoped>\n",
       "    .dataframe tbody tr th:only-of-type {\n",
       "        vertical-align: middle;\n",
       "    }\n",
       "\n",
       "    .dataframe tbody tr th {\n",
       "        vertical-align: top;\n",
       "    }\n",
       "\n",
       "    .dataframe thead th {\n",
       "        text-align: right;\n",
       "    }\n",
       "</style>\n",
       "<table border=\"1\" class=\"dataframe\">\n",
       "  <thead>\n",
       "    <tr style=\"text-align: right;\">\n",
       "      <th></th>\n",
       "      <th>Rainfall</th>\n",
       "      <th>RH</th>\n",
       "      <th>Temp</th>\n",
       "      <th>Yield</th>\n",
       "    </tr>\n",
       "  </thead>\n",
       "  <tbody>\n",
       "    <tr>\n",
       "      <th>0</th>\n",
       "      <td>False</td>\n",
       "      <td>False</td>\n",
       "      <td>False</td>\n",
       "      <td>False</td>\n",
       "    </tr>\n",
       "    <tr>\n",
       "      <th>1</th>\n",
       "      <td>False</td>\n",
       "      <td>False</td>\n",
       "      <td>False</td>\n",
       "      <td>False</td>\n",
       "    </tr>\n",
       "    <tr>\n",
       "      <th>2</th>\n",
       "      <td>False</td>\n",
       "      <td>False</td>\n",
       "      <td>False</td>\n",
       "      <td>False</td>\n",
       "    </tr>\n",
       "    <tr>\n",
       "      <th>3</th>\n",
       "      <td>False</td>\n",
       "      <td>False</td>\n",
       "      <td>False</td>\n",
       "      <td>False</td>\n",
       "    </tr>\n",
       "    <tr>\n",
       "      <th>4</th>\n",
       "      <td>False</td>\n",
       "      <td>False</td>\n",
       "      <td>False</td>\n",
       "      <td>False</td>\n",
       "    </tr>\n",
       "    <tr>\n",
       "      <th>...</th>\n",
       "      <td>...</td>\n",
       "      <td>...</td>\n",
       "      <td>...</td>\n",
       "      <td>...</td>\n",
       "    </tr>\n",
       "    <tr>\n",
       "      <th>94</th>\n",
       "      <td>False</td>\n",
       "      <td>False</td>\n",
       "      <td>False</td>\n",
       "      <td>False</td>\n",
       "    </tr>\n",
       "    <tr>\n",
       "      <th>95</th>\n",
       "      <td>False</td>\n",
       "      <td>False</td>\n",
       "      <td>False</td>\n",
       "      <td>False</td>\n",
       "    </tr>\n",
       "    <tr>\n",
       "      <th>96</th>\n",
       "      <td>False</td>\n",
       "      <td>False</td>\n",
       "      <td>False</td>\n",
       "      <td>False</td>\n",
       "    </tr>\n",
       "    <tr>\n",
       "      <th>97</th>\n",
       "      <td>False</td>\n",
       "      <td>False</td>\n",
       "      <td>False</td>\n",
       "      <td>False</td>\n",
       "    </tr>\n",
       "    <tr>\n",
       "      <th>98</th>\n",
       "      <td>False</td>\n",
       "      <td>False</td>\n",
       "      <td>False</td>\n",
       "      <td>False</td>\n",
       "    </tr>\n",
       "  </tbody>\n",
       "</table>\n",
       "<p>99 rows × 4 columns</p>\n",
       "</div>"
      ],
      "text/plain": [
       "    Rainfall     RH   Temp  Yield\n",
       "0      False  False  False  False\n",
       "1      False  False  False  False\n",
       "2      False  False  False  False\n",
       "3      False  False  False  False\n",
       "4      False  False  False  False\n",
       "..       ...    ...    ...    ...\n",
       "94     False  False  False  False\n",
       "95     False  False  False  False\n",
       "96     False  False  False  False\n",
       "97     False  False  False  False\n",
       "98     False  False  False  False\n",
       "\n",
       "[99 rows x 4 columns]"
      ]
     },
     "execution_count": 3,
     "metadata": {},
     "output_type": "execute_result"
    }
   ],
   "source": [
    "dataset.isnull()"
   ]
  },
  {
   "cell_type": "code",
   "execution_count": 4,
   "metadata": {},
   "outputs": [
    {
     "data": {
      "text/plain": [
       "Rainfall    0\n",
       "RH          0\n",
       "Temp        0\n",
       "Yield       0\n",
       "dtype: int64"
      ]
     },
     "execution_count": 4,
     "metadata": {},
     "output_type": "execute_result"
    }
   ],
   "source": [
    "dataset.isnull().sum()"
   ]
  },
  {
   "cell_type": "code",
   "execution_count": 5,
   "metadata": {},
   "outputs": [
    {
     "data": {
      "image/png": "[encoded data removed]",
      "text/plain": [
       "<Figure size 432x288 with 1 Axes>"
      ]
     },
     "metadata": {
      "needs_background": "light"
     },
     "output_type": "display_data"
    }
   ],
   "source": [
    "plt.scatter(dataset['Rainfall'], dataset['Yield'], color='red')\n",
    "plt.title('Yield Vs Rainfall', fontsize=14)\n",
    "plt.xlabel('Rainfall', fontsize=14)\n",
    "plt.ylabel('Yield', fontsize=14)\n",
    "plt.grid(True)\n",
    "plt.show()"
   ]
  },
  {
   "cell_type": "code",
   "execution_count": 6,
   "metadata": {},
   "outputs": [
    {
     "data": {
      "image/png": "[encoded data removed]",
      "text/plain": [
       "<Figure size 432x288 with 1 Axes>"
      ]
     },
     "metadata": {
      "needs_background": "light"
     },
     "output_type": "display_data"
    }
   ],
   "source": [
    "plt.scatter(dataset['RH'], dataset['Yield'], color='blue')\n",
    "plt.title('Yield Vs RH', fontsize=14)\n",
    "plt.xlabel('RH', fontsize=14)\n",
    "plt.ylabel('Yield', fontsize=14)\n",
    "plt.grid(True)\n",
    "plt.show()"
   ]
  },
  {
   "cell_type": "code",
   "execution_count": 7,
   "metadata": {},
   "outputs": [
    {
     "data": {
      "image/png": "[encoded data removed]",
      "text/plain": [
       "<Figure size 432x288 with 1 Axes>"
      ]
     },
     "metadata": {
      "needs_background": "light"
     },
     "output_type": "display_data"
    }
   ],
   "source": [
    "plt.scatter(dataset['Temp'], dataset['Yield'], color='orange')\n",
    "plt.title('Yield Vs Temp', fontsize=14)\n",
    "plt.xlabel('Temp', fontsize=14)\n",
    "plt.ylabel('Yield', fontsize=14)\n",
    "plt.grid(True)\n",
    "plt.show()"
   ]
  },
  {
   "cell_type": "code",
   "execution_count": 8,
   "metadata": {},
   "outputs": [
    {
     "name": "stdout",
     "output_type": "stream",
     "text": [
      "[[1.5980e+02 8.2340e+01 2.6770e+01]\n",
      " [1.0642e+03 8.2340e+01 2.6520e+01]\n",
      " [1.1207e+03 8.2340e+01 2.6450e+01]\n",
      " [8.6130e+02 8.2340e+01 2.6770e+01]\n",
      " [4.2380e+02 8.2340e+01 2.6560e+01]\n",
      " [1.0110e+03 8.2340e+01 2.6790e+01]\n",
      " [1.4083e+03 8.2340e+01 2.6790e+01]\n",
      " [6.8750e+02 7.9520e+01 2.6700e+01]\n",
      " [9.1090e+02 8.0500e+01 2.6700e+01]\n",
      " [8.0360e+02 8.4000e+01 2.6200e+01]\n",
      " [1.1362e+03 8.5350e+01 2.8200e+01]\n",
      " [9.5350e+02 8.3130e+01 2.6860e+01]\n",
      " [1.1810e+03 8.3130e+01 2.6320e+01]\n",
      " [8.4270e+02 8.3130e+01 2.6950e+01]\n",
      " [1.3972e+03 8.3130e+01 2.6370e+01]\n",
      " [6.9800e+02 8.3130e+01 2.6640e+01]\n",
      " [1.2364e+03 8.3130e+01 2.6050e+01]\n",
      " [9.3690e+02 8.3130e+01 2.6670e+01]\n",
      " [6.0730e+02 8.0350e+01 2.5700e+01]\n",
      " [5.0900e+02 8.2900e+01 2.6600e+01]\n",
      " [8.4030e+02 8.3800e+01 2.6300e+01]\n",
      " [9.4410e+02 8.5500e+01 2.8700e+01]\n",
      " [1.5980e+02 6.8810e+01 2.9930e+01]\n",
      " [2.0180e+02 7.0180e+01 2.9920e+01]\n",
      " [2.0000e+02 7.0920e+01 2.9550e+01]\n",
      " [1.3240e+02 6.7070e+01 2.9830e+01]\n",
      " [2.1250e+02 7.2690e+01 2.9240e+01]\n",
      " [4.1310e+02 6.7580e+01 2.9850e+01]\n",
      " [4.7280e+02 7.2250e+01 2.9490e+01]\n",
      " [5.4750e+02 7.5100e+01 2.9500e+01]\n",
      " [3.5570e+02 7.0600e+01 3.0100e+01]\n",
      " [3.7300e+02 7.4600e+01 2.9200e+01]\n",
      " [1.5270e+02 6.4900e+01 3.0900e+01]\n",
      " [8.1150e+02 8.2640e+01 2.7360e+01]\n",
      " [8.6030e+02 8.2640e+01 2.6700e+01]\n",
      " [8.2040e+02 8.2640e+01 2.7060e+01]\n",
      " [8.8660e+02 8.2640e+01 2.7010e+01]\n",
      " [4.6550e+02 8.2640e+01 2.7040e+01]\n",
      " [6.6000e+02 8.2640e+01 2.6990e+01]\n",
      " [9.0630e+02 8.2640e+01 2.7550e+01]\n",
      " [2.3080e+02 8.1230e+01 2.7000e+01]\n",
      " [4.4650e+02 8.2060e+01 2.7420e+01]\n",
      " [6.7410e+02 8.3810e+01 2.6600e+01]\n",
      " [9.5050e+02 8.3460e+01 2.7670e+01]\n",
      " [1.1700e+01 7.4370e+01 2.9460e+01]\n",
      " [9.5300e+01 7.2860e+01 3.0060e+01]\n",
      " [2.7700e+01 7.4840e+01 2.9100e+01]\n",
      " [4.0000e+01 7.2730e+01 2.9610e+01]\n",
      " [6.1900e+01 7.4030e+01 2.9240e+01]\n",
      " [1.9320e+02 7.2370e+01 2.9140e+01]\n",
      " [1.5450e+02 7.5520e+01 2.9280e+01]\n",
      " [1.7000e+00 8.1610e+01 2.8950e+01]\n",
      " [7.6200e+01 8.2760e+01 2.9600e+01]\n",
      " [2.8300e+02 8.3350e+01 2.8350e+01]\n",
      " [6.0000e-01 7.7850e+01 3.0020e+01]\n",
      " [1.5264e+03 8.3580e+01 2.7050e+01]\n",
      " [2.6005e+03 8.3580e+01 2.6530e+01]\n",
      " [1.3293e+03 8.3580e+01 2.6960e+01]\n",
      " [2.0311e+03 8.3580e+01 2.6960e+01]\n",
      " [7.6830e+02 8.3580e+01 2.6690e+01]\n",
      " [1.8330e+03 8.3580e+01 2.6770e+01]\n",
      " [1.8050e+03 8.3580e+01 2.7200e+01]\n",
      " [8.4450e+02 8.0460e+01 2.7120e+01]\n",
      " [8.0330e+02 8.3970e+01 2.6950e+01]\n",
      " [1.2375e+03 8.5035e+01 2.6925e+01]\n",
      " [1.6572e+03 8.4885e+01 2.7700e+01]\n",
      " [2.8330e+02 7.5910e+01 2.8990e+01]\n",
      " [7.5300e+01 7.2260e+01 2.9650e+01]\n",
      " [1.1040e+02 7.4250e+01 2.9510e+01]\n",
      " [6.9800e+01 7.0330e+01 2.9655e+01]\n",
      " [1.4260e+02 7.3520e+01 2.9900e+01]\n",
      " [1.7540e+02 7.3920e+01 3.0140e+01]\n",
      " [1.8860e+02 7.3330e+01 2.9845e+01]\n",
      " [2.9980e+02 7.3935e+01 3.0270e+01]\n",
      " [1.2320e+02 7.3865e+01 2.9550e+01]\n",
      " [1.9560e+02 7.6635e+01 2.9770e+01]\n",
      " [7.4500e+01 7.5050e+01 3.0300e+01]\n",
      " [1.2126e+03 8.3100e+01 2.7210e+01]\n",
      " [1.8015e+03 8.3100e+01 2.7600e+01]\n",
      " [1.2285e+03 8.3100e+01 2.6500e+01]\n",
      " [1.5680e+03 8.3100e+01 2.7060e+01]\n",
      " [5.6600e+02 8.3100e+01 2.7060e+01]\n",
      " [1.1583e+03 8.3100e+01 2.7160e+01]\n",
      " [1.3540e+03 8.3100e+01 2.7310e+01]\n",
      " [5.2410e+02 8.0300e+01 2.7300e+01]\n",
      " [9.4320e+02 8.2840e+01 2.7070e+01]\n",
      " [1.2417e+03 8.4900e+01 2.6620e+01]\n",
      " [1.2367e+03 8.4380e+01 2.8920e+01]\n",
      " [9.4800e+01 7.0880e+01 3.0590e+01]\n",
      " [1.8070e+02 6.7880e+01 3.0640e+01]\n",
      " [1.1580e+02 7.1350e+01 3.0550e+01]\n",
      " [2.0800e+01 6.3120e+01 3.1240e+01]\n",
      " [2.9130e+02 6.8320e+01 2.9750e+01]\n",
      " [2.0690e+02 6.7340e+01 3.1030e+01]\n",
      " [1.8510e+02 6.8940e+01 3.0640e+01]\n",
      " [4.7140e+02 7.2130e+01 3.0220e+01]\n",
      " [3.1990e+02 7.2060e+01 3.0650e+01]\n",
      " [4.1390e+02 7.3390e+01 2.9900e+01]\n",
      " [1.4190e+02 6.8580e+01 3.1120e+01]]\n",
      "[[ 20117]\n",
      " [ 20381]\n",
      " [ 20611]\n",
      " [ 21260]\n",
      " [  3602]\n",
      " [ 27000]\n",
      " [ 17511]\n",
      " [  3283]\n",
      " [ 16345]\n",
      " [ 38123]\n",
      " [ 25237]\n",
      " [ 24457]\n",
      " [ 49171]\n",
      " [ 58888]\n",
      " [ 62512]\n",
      " [ 17515]\n",
      " [ 76363]\n",
      " [ 71889]\n",
      " [ 22083]\n",
      " [ 35071]\n",
      " [ 96567]\n",
      " [ 77646]\n",
      " [   789]\n",
      " [  3685]\n",
      " [ 16781]\n",
      " [  2692]\n",
      " [ 23930]\n",
      " [  5455]\n",
      " [ 24978]\n",
      " [  4405]\n",
      " [  1940]\n",
      " [  1557]\n",
      " [ 11730]\n",
      " [ 41755]\n",
      " [ 49990]\n",
      " [ 61459]\n",
      " [ 77975]\n",
      " [ 25027]\n",
      " [ 88661]\n",
      " [ 89079]\n",
      " [ 56149]\n",
      " [ 78071]\n",
      " [ 94045]\n",
      " [ 92137]\n",
      " [  6000]\n",
      " [  2240]\n",
      " [  6601]\n",
      " [  6171]\n",
      " [ 12225]\n",
      " [  4530]\n",
      " [ 13236]\n",
      " [  7949]\n",
      " [   274]\n",
      " [  2185]\n",
      " [  4815]\n",
      " [193274]\n",
      " [ 30539]\n",
      " [171715]\n",
      " [115630]\n",
      " [166010]\n",
      " [120570]\n",
      " [150434]\n",
      " [ 81878]\n",
      " [177289]\n",
      " [190167]\n",
      " [180537]\n",
      " [ 59227]\n",
      " [ 73906]\n",
      " [ 77196]\n",
      " [ 83599]\n",
      " [ 11943]\n",
      " [ 74062]\n",
      " [114470]\n",
      " [ 85305]\n",
      " [ 67263]\n",
      " [ 92926]\n",
      " [ 79649]\n",
      " [106727]\n",
      " [ 51451]\n",
      " [125644]\n",
      " [ 98955]\n",
      " [ 97630]\n",
      " [117256]\n",
      " [145279]\n",
      " [ 74365]\n",
      " [144171]\n",
      " [151555]\n",
      " [130470]\n",
      " [ 62850]\n",
      " [ 58879]\n",
      " [ 79890]\n",
      " [ 65988]\n",
      " [101718]\n",
      " [ 30225]\n",
      " [ 97884]\n",
      " [ 95320]\n",
      " [ 40002]\n",
      " [ 94434]\n",
      " [ 83700]]\n"
     ]
    }
   ],
   "source": [
    "x= dataset.iloc[:,0:3].values\n",
    "y= dataset.iloc[:,3:4].values\n",
    "print(x)\n",
    "print(y)"
   ]
  },
  {
   "cell_type": "code",
   "execution_count": 9,
   "metadata": {},
   "outputs": [
    {
     "name": "stdout",
     "output_type": "stream",
     "text": [
      "[[1.8330e+03 8.3580e+01 2.6770e+01]\n",
      " [1.5680e+03 8.3100e+01 2.7060e+01]\n",
      " [1.8070e+02 6.7880e+01 3.0640e+01]\n",
      " [1.1040e+02 7.4250e+01 2.9510e+01]\n",
      " [1.7000e+00 8.1610e+01 2.8950e+01]\n",
      " [4.1310e+02 6.7580e+01 2.9850e+01]\n",
      " [6.0730e+02 8.0350e+01 2.5700e+01]\n",
      " [2.6005e+03 8.3580e+01 2.6530e+01]\n",
      " [8.0330e+02 8.3970e+01 2.6950e+01]\n",
      " [1.2320e+02 7.3865e+01 2.9550e+01]\n",
      " [1.0642e+03 8.2340e+01 2.6520e+01]\n",
      " [1.8050e+03 8.3580e+01 2.7200e+01]\n",
      " [6.7410e+02 8.3810e+01 2.6600e+01]\n",
      " [4.4650e+02 8.2060e+01 2.7420e+01]\n",
      " [4.2380e+02 8.2340e+01 2.6560e+01]\n",
      " [6.9800e+02 8.3130e+01 2.6640e+01]\n",
      " [9.3690e+02 8.3130e+01 2.6670e+01]\n",
      " [2.3080e+02 8.1230e+01 2.7000e+01]\n",
      " [6.6000e+02 8.2640e+01 2.6990e+01]\n",
      " [1.0110e+03 8.2340e+01 2.6790e+01]\n",
      " [1.1580e+02 7.1350e+01 3.0550e+01]\n",
      " [7.6830e+02 8.3580e+01 2.6690e+01]\n",
      " [1.5980e+02 8.2340e+01 2.6770e+01]\n",
      " [8.6030e+02 8.2640e+01 2.6700e+01]\n",
      " [4.7280e+02 7.2250e+01 2.9490e+01]\n",
      " [1.5450e+02 7.5520e+01 2.9280e+01]\n",
      " [9.5350e+02 8.3130e+01 2.6860e+01]\n",
      " [8.2040e+02 8.2640e+01 2.7060e+01]\n",
      " [2.0180e+02 7.0180e+01 2.9920e+01]\n",
      " [7.6200e+01 8.2760e+01 2.9600e+01]\n",
      " [1.1362e+03 8.5350e+01 2.8200e+01]\n",
      " [3.7300e+02 7.4600e+01 2.9200e+01]\n",
      " [2.8330e+02 7.5910e+01 2.8990e+01]\n",
      " [1.3293e+03 8.3580e+01 2.6960e+01]\n",
      " [1.2285e+03 8.3100e+01 2.6500e+01]\n",
      " [9.4320e+02 8.2840e+01 2.7070e+01]\n",
      " [1.5270e+02 6.4900e+01 3.0900e+01]\n",
      " [5.2410e+02 8.0300e+01 2.7300e+01]\n",
      " [1.3972e+03 8.3130e+01 2.6370e+01]\n",
      " [9.4800e+01 7.0880e+01 3.0590e+01]\n",
      " [5.0900e+02 8.2900e+01 2.6600e+01]\n",
      " [5.4750e+02 7.5100e+01 2.9500e+01]\n",
      " [1.9320e+02 7.2370e+01 2.9140e+01]\n",
      " [3.1990e+02 7.2060e+01 3.0650e+01]\n",
      " [4.1390e+02 7.3390e+01 2.9900e+01]\n",
      " [6.9800e+01 7.0330e+01 2.9655e+01]\n",
      " [8.4030e+02 8.3800e+01 2.6300e+01]\n",
      " [2.0690e+02 6.7340e+01 3.1030e+01]\n",
      " [1.8860e+02 7.3330e+01 2.9845e+01]\n",
      " [1.2126e+03 8.3100e+01 2.7210e+01]\n",
      " [1.3240e+02 6.7070e+01 2.9830e+01]\n",
      " [4.6550e+02 8.2640e+01 2.7040e+01]\n",
      " [5.6600e+02 8.3100e+01 2.7060e+01]\n",
      " [2.7700e+01 7.4840e+01 2.9100e+01]\n",
      " [9.0630e+02 8.2640e+01 2.7550e+01]\n",
      " [1.6572e+03 8.4885e+01 2.7700e+01]\n",
      " [2.0311e+03 8.3580e+01 2.6960e+01]\n",
      " [1.1810e+03 8.3130e+01 2.6320e+01]\n",
      " [1.4260e+02 7.3520e+01 2.9900e+01]\n",
      " [1.2367e+03 8.4380e+01 2.8920e+01]\n",
      " [8.8660e+02 8.2640e+01 2.7010e+01]\n",
      " [9.4410e+02 8.5500e+01 2.8700e+01]\n",
      " [1.3540e+03 8.3100e+01 2.7310e+01]\n",
      " [8.0360e+02 8.4000e+01 2.6200e+01]\n",
      " [4.7140e+02 7.2130e+01 3.0220e+01]\n",
      " [7.5300e+01 7.2260e+01 2.9650e+01]\n",
      " [1.2375e+03 8.5035e+01 2.6925e+01]\n",
      " [4.0000e+01 7.2730e+01 2.9610e+01]\n",
      " [1.1700e+01 7.4370e+01 2.9460e+01]]\n",
      "[[120570]\n",
      " [ 98955]\n",
      " [ 58879]\n",
      " [ 77196]\n",
      " [  7949]\n",
      " [  5455]\n",
      " [ 22083]\n",
      " [ 30539]\n",
      " [177289]\n",
      " [ 67263]\n",
      " [ 20381]\n",
      " [150434]\n",
      " [ 94045]\n",
      " [ 78071]\n",
      " [  3602]\n",
      " [ 17515]\n",
      " [ 71889]\n",
      " [ 56149]\n",
      " [ 88661]\n",
      " [ 27000]\n",
      " [ 79890]\n",
      " [166010]\n",
      " [ 20117]\n",
      " [ 49990]\n",
      " [ 24978]\n",
      " [ 13236]\n",
      " [ 24457]\n",
      " [ 61459]\n",
      " [  3685]\n",
      " [   274]\n",
      " [ 25237]\n",
      " [  1557]\n",
      " [ 59227]\n",
      " [171715]\n",
      " [125644]\n",
      " [144171]\n",
      " [ 11730]\n",
      " [ 74365]\n",
      " [ 62512]\n",
      " [ 62850]\n",
      " [ 35071]\n",
      " [  4405]\n",
      " [  4530]\n",
      " [ 40002]\n",
      " [ 94434]\n",
      " [ 83599]\n",
      " [ 96567]\n",
      " [ 30225]\n",
      " [114470]\n",
      " [106727]\n",
      " [  2692]\n",
      " [ 25027]\n",
      " [ 97630]\n",
      " [  6601]\n",
      " [ 89079]\n",
      " [180537]\n",
      " [115630]\n",
      " [ 49171]\n",
      " [ 11943]\n",
      " [130470]\n",
      " [ 77975]\n",
      " [ 77646]\n",
      " [145279]\n",
      " [ 38123]\n",
      " [ 95320]\n",
      " [ 73906]\n",
      " [190167]\n",
      " [  6171]\n",
      " [  6000]]\n",
      "[[2.1250e+02 7.2690e+01 2.9240e+01]\n",
      " [1.2417e+03 8.4900e+01 2.6620e+01]\n",
      " [1.1207e+03 8.2340e+01 2.6450e+01]\n",
      " [1.5264e+03 8.3580e+01 2.7050e+01]\n",
      " [1.9560e+02 7.6635e+01 2.9770e+01]\n",
      " [2.9130e+02 6.8320e+01 2.9750e+01]\n",
      " [1.2364e+03 8.3130e+01 2.6050e+01]\n",
      " [2.9980e+02 7.3935e+01 3.0270e+01]\n",
      " [6.0000e-01 7.7850e+01 3.0020e+01]\n",
      " [1.8510e+02 6.8940e+01 3.0640e+01]\n",
      " [2.8300e+02 8.3350e+01 2.8350e+01]\n",
      " [2.0800e+01 6.3120e+01 3.1240e+01]\n",
      " [1.8015e+03 8.3100e+01 2.7600e+01]\n",
      " [8.4270e+02 8.3130e+01 2.6950e+01]\n",
      " [6.8750e+02 7.9520e+01 2.6700e+01]\n",
      " [3.5570e+02 7.0600e+01 3.0100e+01]\n",
      " [1.5980e+02 6.8810e+01 2.9930e+01]\n",
      " [2.0000e+02 7.0920e+01 2.9550e+01]\n",
      " [8.1150e+02 8.2640e+01 2.7360e+01]\n",
      " [9.1090e+02 8.0500e+01 2.6700e+01]\n",
      " [9.5050e+02 8.3460e+01 2.7670e+01]\n",
      " [8.4450e+02 8.0460e+01 2.7120e+01]\n",
      " [8.6130e+02 8.2340e+01 2.6770e+01]\n",
      " [1.7540e+02 7.3920e+01 3.0140e+01]\n",
      " [9.5300e+01 7.2860e+01 3.0060e+01]\n",
      " [6.1900e+01 7.4030e+01 2.9240e+01]\n",
      " [1.4083e+03 8.2340e+01 2.6790e+01]\n",
      " [1.4190e+02 6.8580e+01 3.1120e+01]\n",
      " [1.1583e+03 8.3100e+01 2.7160e+01]\n",
      " [7.4500e+01 7.5050e+01 3.0300e+01]]\n",
      "[[ 23930]\n",
      " [151555]\n",
      " [ 20611]\n",
      " [193274]\n",
      " [ 92926]\n",
      " [101718]\n",
      " [ 76363]\n",
      " [ 85305]\n",
      " [  4815]\n",
      " [ 97884]\n",
      " [  2185]\n",
      " [ 65988]\n",
      " [ 51451]\n",
      " [ 58888]\n",
      " [  3283]\n",
      " [  1940]\n",
      " [   789]\n",
      " [ 16781]\n",
      " [ 41755]\n",
      " [ 16345]\n",
      " [ 92137]\n",
      " [ 81878]\n",
      " [ 21260]\n",
      " [ 74062]\n",
      " [  2240]\n",
      " [ 12225]\n",
      " [ 17511]\n",
      " [ 83700]\n",
      " [117256]\n",
      " [ 79649]]\n"
     ]
    }
   ],
   "source": [
    "from sklearn.model_selection import train_test_split\n",
    "xtrain , xtest , ytrain , ytest = train_test_split(x , y , test_size=.30 , random_state= 0)\n",
    "print(xtrain)\n",
    "print(ytrain)\n",
    "print(xtest)\n",
    "print(ytest)"
   ]
  },
  {
   "cell_type": "code",
   "execution_count": 10,
   "metadata": {},
   "outputs": [
    {
     "name": "stdout",
     "output_type": "stream",
     "text": [
      "[[-0.91162221  0.67607451 -0.94875367]\n",
      " [ 0.74586531  0.67607451 -1.10884675]\n",
      " [ 0.84941246  0.67607451 -1.15367281]\n",
      " [ 0.37401191  0.67607451 -0.94875367]\n",
      " [-0.42779127  0.67607451 -1.08323186]\n",
      " [ 0.64836605  0.67607451 -0.93594622]\n",
      " [ 1.37649496  0.67607451 -0.93594622]\n",
      " [ 0.05548987  0.19810826 -0.99357973]\n",
      " [ 0.46491348  0.36421001 -0.99357973]\n",
      " [ 0.26826552  0.95743053 -1.3137659 ]\n",
      " [ 0.87781921  1.18624416 -0.03302122]\n",
      " [ 0.5429862   0.80997286 -0.89112015]\n",
      " [ 0.95992385  0.80997286 -1.23692122]\n",
      " [ 0.33992382  0.80997286 -0.83348664]\n",
      " [ 1.35615207  0.80997286 -1.2049026 ]\n",
      " [ 0.07473315  0.80997286 -1.03200207]\n",
      " [ 1.06145504  0.80997286 -1.40982175]\n",
      " [ 0.5125635   0.80997286 -1.0127909 ]\n",
      " [-0.09149211  0.33878627 -1.63395207]\n",
      " [-0.27164582  0.77098979 -1.05761696]\n",
      " [ 0.33552536  0.92353221 -1.24972866]\n",
      " [ 0.52575889  1.21166789  0.28716495]\n",
      " [-0.91162221 -1.61714653  1.07482293]\n",
      " [-0.8346491  -1.38494307  1.0684192 ]\n",
      " [-0.83794795 -1.2595193   0.83148144]\n",
      " [-0.961838   -1.91206188  1.01078569]\n",
      " [-0.81503929 -0.95951921  0.63296601]\n",
      " [-0.44740108 -1.82562117  1.02359314]\n",
      " [-0.33798931 -1.03409551  0.7930591 ]\n",
      " [-0.20108715 -0.55104451  0.79946282]\n",
      " [-0.55259766 -1.31375661  1.18368622]\n",
      " [-0.52089207 -0.6357903   0.60735112]\n",
      " [-0.92463433 -2.2798586   1.6959841 ]\n",
      " [ 0.2827438   0.72692198 -0.57093399]\n",
      " [ 0.37217922  0.72692198 -0.99357973]\n",
      " [ 0.29905477  0.72692198 -0.76304569]\n",
      " [ 0.42037904  0.72692198 -0.7950643 ]\n",
      " [-0.35136797  0.72692198 -0.77585313]\n",
      " [ 0.00509081  0.72692198 -0.80787175]\n",
      " [ 0.45648309  0.72692198 -0.44926324]\n",
      " [-0.78150101  0.48793886 -0.80146803]\n",
      " [-0.38618914  0.62861687 -0.53251164]\n",
      " [ 0.03093178  0.92522713 -1.05761696]\n",
      " [ 0.53748812  0.86590508 -0.37241856]\n",
      " [-1.18304404 -0.67477336  0.77384793]\n",
      " [-1.02983091 -0.93070564  1.15807133]\n",
      " [-1.15372095 -0.59511232  0.54331389]\n",
      " [-1.13117883 -0.95273955  0.86990378]\n",
      " [-1.09104285 -0.7324005   0.63296601]\n",
      " [-0.85041026 -1.01375652  0.56892878]\n",
      " [-0.92133548 -0.47985805  0.65858091]\n",
      " [-1.20137097  0.55234566  0.44725803]\n",
      " [-1.06483534  0.74726097  0.86350005]\n",
      " [-0.68583444  0.847261    0.06303463]\n",
      " [-1.20338693 -0.08494267  1.13245644]\n",
      " [ 1.592936    0.88624406 -0.76944941]\n",
      " [ 3.56143152  0.88624406 -1.10244303]\n",
      " [ 1.23171222  0.88624406 -0.82708292]\n",
      " [ 2.51789614  0.88624406 -0.82708292]\n",
      " [ 0.20357146  0.88624406 -0.99998345]\n",
      " [ 2.15483967  0.88624406 -0.94875367]\n",
      " [ 2.10352426  0.88624406 -0.67339356]\n",
      " [ 0.34322267  0.35743034 -0.72462335]\n",
      " [ 0.26771572  0.95234578 -0.83348664]\n",
      " [ 1.063471    1.13285431 -0.84949595]\n",
      " [ 1.83265224  1.10743057 -0.35320739]\n",
      " [-0.68528463 -0.41375633  0.47287293]\n",
      " [-1.06648477 -1.03240059  0.89551867]\n",
      " [-1.00215724 -0.69511235  0.80586654]\n",
      " [-1.07656458 -1.35951933  0.89872053]\n",
      " [-0.94314453 -0.8188412   1.05561176]\n",
      " [-0.8830322  -0.75104457  1.20930112]\n",
      " [-0.85884065 -0.8510446   1.02039128]\n",
      " [-0.65504519 -0.7485022   1.29254952]\n",
      " [-0.97869877 -0.76036661  0.83148144]\n",
      " [-0.8460118  -0.29087494  0.97236335]\n",
      " [-1.06795092 -0.55951909  1.31176069]\n",
      " [ 1.01783695  0.80488811 -0.66698984]\n",
      " [ 2.09710984  0.80488811 -0.41724462]\n",
      " [ 1.04697677  0.80488811 -1.1216542 ]\n",
      " [ 1.66917603  0.80488811 -0.76304569]\n",
      " [-0.16718233  0.80488811 -0.76304569]\n",
      " [ 0.91832172  0.80488811 -0.69900845]\n",
      " [ 1.27697973  0.80488811 -0.6029526 ]\n",
      " [-0.24397216  0.33031169 -0.60935633]\n",
      " [ 0.52410946  0.7608203  -0.75664196]\n",
      " [ 1.07116831  1.10997295 -1.04480952]\n",
      " [ 1.06200485  1.02183733  0.42804686]\n",
      " [-1.03074725 -1.26629897  1.49746867]\n",
      " [-0.87331893 -1.7747737   1.52948729]\n",
      " [-0.9922607  -1.18663793  1.47185378]\n",
      " [-1.16636653 -2.58155361  1.91371069]\n",
      " [-0.67062308 -1.7001974   0.95955591]\n",
      " [-0.82530237 -1.86629915  1.7792325 ]\n",
      " [-0.86525508 -1.59511263  1.52948729]\n",
      " [-0.34055508 -1.05443449  1.26053091]\n",
      " [-0.61820807 -1.06629891  1.53589101]\n",
      " [-0.44593493 -0.84087511  1.05561176]\n",
      " [-0.94442741 -1.65612959  1.83686601]]\n",
      "[[-8.34400229e-01]\n",
      " [-8.29188701e-01]\n",
      " [-8.24648354e-01]\n",
      " [-8.11836681e-01]\n",
      " [-1.16041685e+00]\n",
      " [-6.98525425e-01]\n",
      " [-8.85844328e-01]\n",
      " [-1.16671411e+00]\n",
      " [-9.08861911e-01]\n",
      " [-4.78950322e-01]\n",
      " [-7.33328168e-01]\n",
      " [-7.48725865e-01]\n",
      " [-2.60855766e-01]\n",
      " [-6.90359980e-02]\n",
      " [ 2.50406987e-03]\n",
      " [-8.85765366e-01]\n",
      " [ 2.75931631e-01]\n",
      " [ 1.87612021e-01]\n",
      " [-7.95590137e-01]\n",
      " [-5.39198746e-01]\n",
      " [ 6.74771457e-01]\n",
      " [ 3.01258868e-01]\n",
      " [-1.21594726e+00]\n",
      " [-1.15877837e+00]\n",
      " [-9.00254993e-01]\n",
      " [-1.17838083e+00]\n",
      " [-7.59129181e-01]\n",
      " [-1.12383745e+00]\n",
      " [-7.38440993e-01]\n",
      " [-1.14456511e+00]\n",
      " [-1.19322578e+00]\n",
      " [-1.20078645e+00]\n",
      " [-9.99964950e-01]\n",
      " [-4.07252329e-01]\n",
      " [-2.44688185e-01]\n",
      " [-1.82828207e-02]\n",
      " [ 3.07753537e-01]\n",
      " [-7.37473702e-01]\n",
      " [ 5.18701982e-01]\n",
      " [ 5.26953569e-01]\n",
      " [-1.23105602e-01]\n",
      " [ 3.09648638e-01]\n",
      " [ 6.24985571e-01]\n",
      " [ 5.87320436e-01]\n",
      " [-1.11307880e+00]\n",
      " [-1.18730359e+00]\n",
      " [-1.10121468e+00]\n",
      " [-1.10970315e+00]\n",
      " [-9.90193335e-01]\n",
      " [-1.14209754e+00]\n",
      " [-9.70235551e-01]\n",
      " [-1.07460430e+00]\n",
      " [-1.22611369e+00]\n",
      " [-1.18838933e+00]\n",
      " [-1.13647145e+00]\n",
      " [ 2.58382922e+00]\n",
      " [-6.28663312e-01]\n",
      " [ 2.15824083e+00]\n",
      " [ 1.05108722e+00]\n",
      " [ 2.04562050e+00]\n",
      " [ 1.14860596e+00]\n",
      " [ 1.73814034e+00]\n",
      " [ 3.84801243e-01]\n",
      " [ 2.26827514e+00]\n",
      " [ 2.52249507e+00]\n",
      " [ 2.33239273e+00]\n",
      " [-6.23439221e-02]\n",
      " [ 2.27428886e-01]\n",
      " [ 2.92375581e-01]\n",
      " [ 4.18774879e-01]\n",
      " [-9.95760194e-01]\n",
      " [ 2.30508425e-01]\n",
      " [ 1.02818808e+00]\n",
      " [ 4.52452405e-01]\n",
      " [ 9.62918355e-02]\n",
      " [ 6.02895799e-01]\n",
      " [ 3.40799363e-01]\n",
      " [ 8.75336328e-01]\n",
      " [-2.15847114e-01]\n",
      " [ 1.24876995e+00]\n",
      " [ 7.21912098e-01]\n",
      " [ 6.95755754e-01]\n",
      " [ 1.08318549e+00]\n",
      " [ 1.63637736e+00]\n",
      " [ 2.36489838e-01]\n",
      " [ 1.61450473e+00]\n",
      " [ 1.76026960e+00]\n",
      " [ 1.34403827e+00]\n",
      " [ 9.17640512e-03]\n",
      " [-6.92136638e-02]\n",
      " [ 3.45556857e-01]\n",
      " [ 7.11225235e-02]\n",
      " [ 7.76455478e-01]\n",
      " [-6.34861872e-01]\n",
      " [ 7.00769876e-01]\n",
      " [ 6.50154883e-01]\n",
      " [-4.41857665e-01]\n",
      " [ 6.32664679e-01]\n",
      " [ 4.20768683e-01]]\n"
     ]
    }
   ],
   "source": [
    "#feature scaling part\n",
    "from sklearn.preprocessing import StandardScaler\n",
    "sc_x = StandardScaler()\n",
    "x = sc_x.fit_transform(x)\n",
    "from sklearn.preprocessing import StandardScaler\n",
    "y= y.reshape(-1, 1)\n",
    "sc_y = StandardScaler()\n",
    "y = sc_y.fit_transform(y)\n",
    "print(x)\n",
    "print(y)"
   ]
  },
  {
   "cell_type": "code",
   "execution_count": 11,
   "metadata": {},
   "outputs": [
    {
     "name": "stdout",
     "output_type": "stream",
     "text": [
      "          Rainfall         RH       Temp          Yield\n",
      "count    99.000000  99.000000  99.000000      99.000000\n",
      "mean    657.222222  78.351162  28.251566   62385.151515\n",
      "std     548.421971   5.930024   1.569539   50914.724776\n",
      "min       0.600000  63.120000  25.700000     274.000000\n",
      "25%     182.900000  73.360000  26.825000   17513.000000\n",
      "50%     524.100000  82.340000  27.600000   59227.000000\n",
      "75%     952.000000  83.130000  29.702500   93485.500000\n",
      "max    2600.500000  85.500000  31.240000  193274.000000\n"
     ]
    }
   ],
   "source": [
    "print(dataset.describe())"
   ]
  },
  {
   "cell_type": "code",
   "execution_count": 12,
   "metadata": {},
   "outputs": [
    {
     "data": {
      "text/plain": [
       "<Figure size 360x360 with 0 Axes>"
      ]
     },
     "execution_count": 12,
     "metadata": {},
     "output_type": "execute_result"
    },
    {
     "data": {
      "text/plain": [
       "<Figure size 360x360 with 0 Axes>"
      ]
     },
     "metadata": {},
     "output_type": "display_data"
    }
   ],
   "source": [
    "corelationMatx = dataset.corr()\n",
    "top_corr_features = corelationMatx.index\n",
    "plt.figure(figsize=(5,5))"
   ]
  },
  {
   "cell_type": "code",
   "execution_count": 13,
   "metadata": {},
   "outputs": [
    {
     "data": {
      "image/png": "[encoded data removed]",
      "text/plain": [
       "<Figure size 432x288 with 2 Axes>"
      ]
     },
     "metadata": {
      "needs_background": "light"
     },
     "output_type": "display_data"
    }
   ],
   "source": [
    "#plot heat map\n",
    "g=sns.heatmap(dataset[top_corr_features].corr(),annot=True,cmap=\"RdYlGn\")"
   ]
  },
  {
   "cell_type": "code",
   "execution_count": 14,
   "metadata": {},
   "outputs": [
    {
     "data": {
      "text/html": [
       "<div>\n",
       "<style scoped>\n",
       "    .dataframe tbody tr th:only-of-type {\n",
       "        vertical-align: middle;\n",
       "    }\n",
       "\n",
       "    .dataframe tbody tr th {\n",
       "        vertical-align: top;\n",
       "    }\n",
       "\n",
       "    .dataframe thead th {\n",
       "        text-align: right;\n",
       "    }\n",
       "</style>\n",
       "<table border=\"1\" class=\"dataframe\">\n",
       "  <thead>\n",
       "    <tr style=\"text-align: right;\">\n",
       "      <th></th>\n",
       "      <th>Rainfall</th>\n",
       "      <th>RH</th>\n",
       "      <th>Temp</th>\n",
       "      <th>Yield</th>\n",
       "    </tr>\n",
       "  </thead>\n",
       "  <tbody>\n",
       "    <tr>\n",
       "      <th>Rainfall</th>\n",
       "      <td>1.000000</td>\n",
       "      <td>0.702193</td>\n",
       "      <td>-0.697215</td>\n",
       "      <td>0.461950</td>\n",
       "    </tr>\n",
       "    <tr>\n",
       "      <th>RH</th>\n",
       "      <td>0.702193</td>\n",
       "      <td>1.000000</td>\n",
       "      <td>-0.878199</td>\n",
       "      <td>0.348987</td>\n",
       "    </tr>\n",
       "    <tr>\n",
       "      <th>Temp</th>\n",
       "      <td>-0.697215</td>\n",
       "      <td>-0.878199</td>\n",
       "      <td>1.000000</td>\n",
       "      <td>-0.248811</td>\n",
       "    </tr>\n",
       "    <tr>\n",
       "      <th>Yield</th>\n",
       "      <td>0.461950</td>\n",
       "      <td>0.348987</td>\n",
       "      <td>-0.248811</td>\n",
       "      <td>1.000000</td>\n",
       "    </tr>\n",
       "  </tbody>\n",
       "</table>\n",
       "</div>"
      ],
      "text/plain": [
       "          Rainfall        RH      Temp     Yield\n",
       "Rainfall  1.000000  0.702193 -0.697215  0.461950\n",
       "RH        0.702193  1.000000 -0.878199  0.348987\n",
       "Temp     -0.697215 -0.878199  1.000000 -0.248811\n",
       "Yield     0.461950  0.348987 -0.248811  1.000000"
      ]
     },
     "execution_count": 14,
     "metadata": {},
     "output_type": "execute_result"
    }
   ],
   "source": [
    "#Matrix of correlation\n",
    "corelationMatx"
   ]
  },
  {
   "cell_type": "code",
   "execution_count": 15,
   "metadata": {},
   "outputs": [
    {
     "data": {
      "text/plain": [
       "<seaborn.axisgrid.PairGrid at 0x2241d0cf340>"
      ]
     },
     "execution_count": 15,
     "metadata": {},
     "output_type": "execute_result"
    },
    {
     "data": {
      "image/png": "[encoded data removed]",
      "text/plain": [
       "<Figure size 360x360 with 6 Axes>"
      ]
     },
     "metadata": {
      "needs_background": "light"
     },
     "output_type": "display_data"
    }
   ],
   "source": [
    "#pair wise distributions\n",
    "sns.pairplot(dataset[['Rainfall','Yield']])"
   ]
  },
  {
   "cell_type": "code",
   "execution_count": 16,
   "metadata": {},
   "outputs": [
    {
     "data": {
      "text/plain": [
       "<seaborn.axisgrid.PairGrid at 0x2241d2309d0>"
      ]
     },
     "execution_count": 16,
     "metadata": {},
     "output_type": "execute_result"
    },
    {
     "data": {
      "image/png": "[encoded data removed]",
      "text/plain": [
       "<Figure size 360x360 with 6 Axes>"
      ]
     },
     "metadata": {
      "needs_background": "light"
     },
     "output_type": "display_data"
    }
   ],
   "source": [
    "#pair wise distributions\n",
    "sns.pairplot(dataset[['RH','Yield']])"
   ]
  },
  {
   "cell_type": "code",
   "execution_count": 17,
   "metadata": {},
   "outputs": [
    {
     "data": {
      "text/plain": [
       "<seaborn.axisgrid.PairGrid at 0x2241cd131c0>"
      ]
     },
     "execution_count": 17,
     "metadata": {},
     "output_type": "execute_result"
    },
    {
     "data": {
      "image/png": "[encoded data removed]",
      "text/plain": [
       "<Figure size 360x360 with 6 Axes>"
      ]
     },
     "metadata": {
      "needs_background": "light"
     },
     "output_type": "display_data"
    }
   ],
   "source": [
    "#pair wise distributions\n",
    "sns.pairplot(dataset[['Temp','Yield']])"
   ]
  },
  {
   "cell_type": "code",
   "execution_count": 18,
   "metadata": {},
   "outputs": [
    {
     "data": {
      "text/plain": [
       "LinearRegression()"
      ]
     },
     "execution_count": 18,
     "metadata": {},
     "output_type": "execute_result"
    }
   ],
   "source": [
    "#using linear regriession method\n",
    "from sklearn.linear_model import LinearRegression\n",
    "regress = LinearRegression()\n",
    "regress.fit(xtrain , ytrain)"
   ]
  },
  {
   "cell_type": "code",
   "execution_count": 44,
   "metadata": {},
   "outputs": [],
   "source": [
    "y_pred = regress.predict(xtest)"
   ]
  },
  {
   "cell_type": "code",
   "execution_count": 20,
   "metadata": {},
   "outputs": [
    {
     "name": "stdout",
     "output_type": "stream",
     "text": [
      "Intercept: \n",
      " [-574257.10429768]\n",
      "Coefficients: \n",
      " [[   40.54024641  3741.10771557 11260.22409298]]\n"
     ]
    }
   ],
   "source": [
    "print('Intercept: \\n', regress.intercept_)\n",
    "print('Coefficients: \\n', regress.coef_)"
   ]
  },
  {
   "cell_type": "code",
   "execution_count": 21,
   "metadata": {},
   "outputs": [],
   "source": [
    "#lets build the model using backward elimination\n",
    "import statsmodels.formula.api as sm\n",
    "import statsmodels.regression.linear_model as sm\n",
    "x=np.append(arr=np.ones(shape= (99,1), dtype= int), values= x, axis= 1)"
   ]
  },
  {
   "cell_type": "code",
   "execution_count": 22,
   "metadata": {},
   "outputs": [
    {
     "data": {
      "text/html": [
       "<table class=\"simpletable\">\n",
       "<caption>OLS Regression Results</caption>\n",
       "<tr>\n",
       "  <th>Dep. Variable:</th>            <td>y</td>        <th>  R-squared:         </th> <td>   0.254</td>\n",
       "</tr>\n",
       "<tr>\n",
       "  <th>Model:</th>                   <td>OLS</td>       <th>  Adj. R-squared:    </th> <td>   0.230</td>\n",
       "</tr>\n",
       "<tr>\n",
       "  <th>Method:</th>             <td>Least Squares</td>  <th>  F-statistic:       </th> <td>   10.78</td>\n",
       "</tr>\n",
       "<tr>\n",
       "  <th>Date:</th>             <td>Tue, 09 Mar 2021</td> <th>  Prob (F-statistic):</th> <td>3.69e-06</td>\n",
       "</tr>\n",
       "<tr>\n",
       "  <th>Time:</th>                 <td>22:15:50</td>     <th>  Log-Likelihood:    </th> <td> -125.98</td>\n",
       "</tr>\n",
       "<tr>\n",
       "  <th>No. Observations:</th>      <td>    99</td>      <th>  AIC:               </th> <td>   260.0</td>\n",
       "</tr>\n",
       "<tr>\n",
       "  <th>Df Residuals:</th>          <td>    95</td>      <th>  BIC:               </th> <td>   270.3</td>\n",
       "</tr>\n",
       "<tr>\n",
       "  <th>Df Model:</th>              <td>     3</td>      <th>                     </th>     <td> </td>   \n",
       "</tr>\n",
       "<tr>\n",
       "  <th>Covariance Type:</th>      <td>nonrobust</td>    <th>                     </th>     <td> </td>   \n",
       "</tr>\n",
       "</table>\n",
       "<table class=\"simpletable\">\n",
       "<tr>\n",
       "    <td></td>       <th>coef</th>     <th>std err</th>      <th>t</th>      <th>P>|t|</th>  <th>[0.025</th>    <th>0.975]</th>  \n",
       "</tr>\n",
       "<tr>\n",
       "  <th>const</th> <td> 1.457e-16</td> <td>    0.089</td> <td> 1.64e-15</td> <td> 1.000</td> <td>   -0.176</td> <td>    0.176</td>\n",
       "</tr>\n",
       "<tr>\n",
       "  <th>x1</th>    <td>    0.4956</td> <td>    0.128</td> <td>    3.869</td> <td> 0.000</td> <td>    0.241</td> <td>    0.750</td>\n",
       "</tr>\n",
       "<tr>\n",
       "  <th>x2</th>    <td>    0.3756</td> <td>    0.192</td> <td>    1.956</td> <td> 0.053</td> <td>   -0.006</td> <td>    0.757</td>\n",
       "</tr>\n",
       "<tr>\n",
       "  <th>x3</th>    <td>    0.4266</td> <td>    0.191</td> <td>    2.237</td> <td> 0.028</td> <td>    0.048</td> <td>    0.805</td>\n",
       "</tr>\n",
       "</table>\n",
       "<table class=\"simpletable\">\n",
       "<tr>\n",
       "  <th>Omnibus:</th>       <td> 1.264</td> <th>  Durbin-Watson:     </th> <td>   1.253</td>\n",
       "</tr>\n",
       "<tr>\n",
       "  <th>Prob(Omnibus):</th> <td> 0.532</td> <th>  Jarque-Bera (JB):  </th> <td>   1.340</td>\n",
       "</tr>\n",
       "<tr>\n",
       "  <th>Skew:</th>          <td> 0.246</td> <th>  Prob(JB):          </th> <td>   0.512</td>\n",
       "</tr>\n",
       "<tr>\n",
       "  <th>Kurtosis:</th>      <td> 2.714</td> <th>  Cond. No.          </th> <td>    4.55</td>\n",
       "</tr>\n",
       "</table><br/><br/>Warnings:<br/>[1] Standard Errors assume that the covariance matrix of the errors is correctly specified."
      ],
      "text/plain": [
       "<class 'statsmodels.iolib.summary.Summary'>\n",
       "\"\"\"\n",
       "                            OLS Regression Results                            \n",
       "==============================================================================\n",
       "Dep. Variable:                      y   R-squared:                       0.254\n",
       "Model:                            OLS   Adj. R-squared:                  0.230\n",
       "Method:                 Least Squares   F-statistic:                     10.78\n",
       "Date:                Tue, 09 Mar 2021   Prob (F-statistic):           3.69e-06\n",
       "Time:                        22:15:50   Log-Likelihood:                -125.98\n",
       "No. Observations:                  99   AIC:                             260.0\n",
       "Df Residuals:                      95   BIC:                             270.3\n",
       "Df Model:                           3                                         \n",
       "Covariance Type:            nonrobust                                         \n",
       "==============================================================================\n",
       "                 coef    std err          t      P>|t|      [0.025      0.975]\n",
       "------------------------------------------------------------------------------\n",
       "const       1.457e-16      0.089   1.64e-15      1.000      -0.176       0.176\n",
       "x1             0.4956      0.128      3.869      0.000       0.241       0.750\n",
       "x2             0.3756      0.192      1.956      0.053      -0.006       0.757\n",
       "x3             0.4266      0.191      2.237      0.028       0.048       0.805\n",
       "==============================================================================\n",
       "Omnibus:                        1.264   Durbin-Watson:                   1.253\n",
       "Prob(Omnibus):                  0.532   Jarque-Bera (JB):                1.340\n",
       "Skew:                           0.246   Prob(JB):                        0.512\n",
       "Kurtosis:                       2.714   Cond. No.                         4.55\n",
       "==============================================================================\n",
       "\n",
       "Warnings:\n",
       "[1] Standard Errors assume that the covariance matrix of the errors is correctly specified.\n",
       "\"\"\""
      ]
     },
     "execution_count": 22,
     "metadata": {},
     "output_type": "execute_result"
    }
   ],
   "source": [
    "#ittration1\n",
    "x_ov= x[:, [0,1,2,3]]\n",
    "x_ov = np.array(x[:, [0, 1, 2, 3]], dtype=float)\n",
    "regress_OLS = sm.OLS(endog = y, exog = x_ov).fit()\n",
    "regress_OLS. summary()"
   ]
  },
  {
   "cell_type": "code",
   "execution_count": 23,
   "metadata": {},
   "outputs": [],
   "source": [
    "x_ovc=x_ov[:,1:]\n",
    "x_ovc_train , x_ovc_test , y_ovc_train , y_ovc_test = train_test_split(x_ovc , y , test_size=.20 , random_state= 0)"
   ]
  },
  {
   "cell_type": "code",
   "execution_count": 24,
   "metadata": {},
   "outputs": [],
   "source": [
    "from sklearn.preprocessing import StandardScaler\n",
    "sc_x1 = StandardScaler()\n",
    "x_ovc_train = sc_x1.fit_transform(x_ovc_train)\n",
    "x_ovc_test = sc_x1.fit_transform(x_ovc_test)"
   ]
  },
  {
   "cell_type": "code",
   "execution_count": 25,
   "metadata": {},
   "outputs": [],
   "source": [
    "y_ovc_train= y_ovc_train.reshape(-1, 1)\n",
    "y_ovc_test = y_ovc_test.reshape(-1, 1)\n",
    "sc_y1 = StandardScaler()\n",
    "y_ovc_train= sc_y1.fit_transform(y_ovc_train)\n",
    "y_ovc_test= sc_y1.fit_transform(y_ovc_test)"
   ]
  },
  {
   "cell_type": "code",
   "execution_count": 26,
   "metadata": {},
   "outputs": [],
   "source": [
    "regress_ov1 = LinearRegression()\n",
    "regress_ov1.fit(x_ovc_train  ,  y_ovc_train)\n",
    "y_pred1 = regress_ov1.predict(x_ovc_test)"
   ]
  },
  {
   "cell_type": "code",
   "execution_count": 27,
   "metadata": {},
   "outputs": [
    {
     "data": {
      "text/plain": [
       "0.13284131000241528"
      ]
     },
     "execution_count": 27,
     "metadata": {},
     "output_type": "execute_result"
    }
   ],
   "source": [
    "regress_ov1.score( x_ovc_train ,  y_ovc_train)\n",
    "regress_ov1.score(x_ovc_test ,y_ovc_test)"
   ]
  },
  {
   "cell_type": "code",
   "execution_count": 28,
   "metadata": {},
   "outputs": [
    {
     "data": {
      "text/html": [
       "<table class=\"simpletable\">\n",
       "<caption>OLS Regression Results</caption>\n",
       "<tr>\n",
       "  <th>Dep. Variable:</th>            <td>y</td>        <th>  R-squared:         </th> <td>   0.224</td>\n",
       "</tr>\n",
       "<tr>\n",
       "  <th>Model:</th>                   <td>OLS</td>       <th>  Adj. R-squared:    </th> <td>   0.208</td>\n",
       "</tr>\n",
       "<tr>\n",
       "  <th>Method:</th>             <td>Least Squares</td>  <th>  F-statistic:       </th> <td>   13.84</td>\n",
       "</tr>\n",
       "<tr>\n",
       "  <th>Date:</th>             <td>Tue, 09 Mar 2021</td> <th>  Prob (F-statistic):</th> <td>5.22e-06</td>\n",
       "</tr>\n",
       "<tr>\n",
       "  <th>Time:</th>                 <td>22:15:51</td>     <th>  Log-Likelihood:    </th> <td> -127.93</td>\n",
       "</tr>\n",
       "<tr>\n",
       "  <th>No. Observations:</th>      <td>    99</td>      <th>  AIC:               </th> <td>   261.9</td>\n",
       "</tr>\n",
       "<tr>\n",
       "  <th>Df Residuals:</th>          <td>    96</td>      <th>  BIC:               </th> <td>   269.6</td>\n",
       "</tr>\n",
       "<tr>\n",
       "  <th>Df Model:</th>              <td>     2</td>      <th>                     </th>     <td> </td>   \n",
       "</tr>\n",
       "<tr>\n",
       "  <th>Covariance Type:</th>      <td>nonrobust</td>    <th>                     </th>     <td> </td>   \n",
       "</tr>\n",
       "</table>\n",
       "<table class=\"simpletable\">\n",
       "<tr>\n",
       "    <td></td>       <th>coef</th>     <th>std err</th>      <th>t</th>      <th>P>|t|</th>  <th>[0.025</th>    <th>0.975]</th>  \n",
       "</tr>\n",
       "<tr>\n",
       "  <th>const</th> <td> 1.457e-16</td> <td>    0.090</td> <td> 1.62e-15</td> <td> 1.000</td> <td>   -0.178</td> <td>    0.178</td>\n",
       "</tr>\n",
       "<tr>\n",
       "  <th>x1</th>    <td>    0.5614</td> <td>    0.125</td> <td>    4.475</td> <td> 0.000</td> <td>    0.312</td> <td>    0.810</td>\n",
       "</tr>\n",
       "<tr>\n",
       "  <th>x2</th>    <td>    0.1426</td> <td>    0.125</td> <td>    1.137</td> <td> 0.259</td> <td>   -0.106</td> <td>    0.392</td>\n",
       "</tr>\n",
       "</table>\n",
       "<table class=\"simpletable\">\n",
       "<tr>\n",
       "  <th>Omnibus:</th>       <td> 1.246</td> <th>  Durbin-Watson:     </th> <td>   1.212</td>\n",
       "</tr>\n",
       "<tr>\n",
       "  <th>Prob(Omnibus):</th> <td> 0.536</td> <th>  Jarque-Bera (JB):  </th> <td>   1.269</td>\n",
       "</tr>\n",
       "<tr>\n",
       "  <th>Skew:</th>          <td> 0.259</td> <th>  Prob(JB):          </th> <td>   0.530</td>\n",
       "</tr>\n",
       "<tr>\n",
       "  <th>Kurtosis:</th>      <td> 2.802</td> <th>  Cond. No.          </th> <td>    2.37</td>\n",
       "</tr>\n",
       "</table><br/><br/>Warnings:<br/>[1] Standard Errors assume that the covariance matrix of the errors is correctly specified."
      ],
      "text/plain": [
       "<class 'statsmodels.iolib.summary.Summary'>\n",
       "\"\"\"\n",
       "                            OLS Regression Results                            \n",
       "==============================================================================\n",
       "Dep. Variable:                      y   R-squared:                       0.224\n",
       "Model:                            OLS   Adj. R-squared:                  0.208\n",
       "Method:                 Least Squares   F-statistic:                     13.84\n",
       "Date:                Tue, 09 Mar 2021   Prob (F-statistic):           5.22e-06\n",
       "Time:                        22:15:51   Log-Likelihood:                -127.93\n",
       "No. Observations:                  99   AIC:                             261.9\n",
       "Df Residuals:                      96   BIC:                             269.6\n",
       "Df Model:                           2                                         \n",
       "Covariance Type:            nonrobust                                         \n",
       "==============================================================================\n",
       "                 coef    std err          t      P>|t|      [0.025      0.975]\n",
       "------------------------------------------------------------------------------\n",
       "const       1.457e-16      0.090   1.62e-15      1.000      -0.178       0.178\n",
       "x1             0.5614      0.125      4.475      0.000       0.312       0.810\n",
       "x2             0.1426      0.125      1.137      0.259      -0.106       0.392\n",
       "==============================================================================\n",
       "Omnibus:                        1.246   Durbin-Watson:                   1.212\n",
       "Prob(Omnibus):                  0.536   Jarque-Bera (JB):                1.269\n",
       "Skew:                           0.259   Prob(JB):                        0.530\n",
       "Kurtosis:                       2.802   Cond. No.                         2.37\n",
       "==============================================================================\n",
       "\n",
       "Warnings:\n",
       "[1] Standard Errors assume that the covariance matrix of the errors is correctly specified.\n",
       "\"\"\""
      ]
     },
     "execution_count": 28,
     "metadata": {},
     "output_type": "execute_result"
    }
   ],
   "source": [
    "#ittration2\n",
    "x_ov= x[:, [0,1,3]]\n",
    "regress_OLS = sm.OLS(endog = y, exog = x_ov).fit()\n",
    "regress_OLS. summary()"
   ]
  },
  {
   "cell_type": "code",
   "execution_count": 29,
   "metadata": {},
   "outputs": [],
   "source": [
    "x_ovc=x_ov[:,1:]\n",
    "x_ovc_train , x_ovc_test , y_ovc_train , y_ovc_test = train_test_split(x_ovc , y , test_size=.20 , random_state= 0)"
   ]
  },
  {
   "cell_type": "code",
   "execution_count": 30,
   "metadata": {},
   "outputs": [],
   "source": [
    "from sklearn.preprocessing import StandardScaler\n",
    "sc_x2 = StandardScaler()\n",
    "x_ovc_train = sc_x2.fit_transform(x_ovc_train)\n",
    "x_ovc_test = sc_x2.fit_transform(x_ovc_test)"
   ]
  },
  {
   "cell_type": "code",
   "execution_count": 31,
   "metadata": {},
   "outputs": [],
   "source": [
    "y_ovc_train= y_ovc_train.reshape(-1, 1)\n",
    "y_ovc_test = y_ovc_test.reshape(-1, 1)\n",
    "sc_y2 = StandardScaler()\n",
    "y_ovc_train= sc_y2.fit_transform(y_ovc_train)\n",
    "y_ovc_test= sc_y2.fit_transform(y_ovc_test)"
   ]
  },
  {
   "cell_type": "code",
   "execution_count": 32,
   "metadata": {},
   "outputs": [
    {
     "data": {
      "text/plain": [
       "0.16940667013343513"
      ]
     },
     "execution_count": 32,
     "metadata": {},
     "output_type": "execute_result"
    }
   ],
   "source": [
    "regress_ov2 = LinearRegression()\n",
    "regress_ov2.fit(x_ovc_train  ,  y_ovc_train)\n",
    "y_pred2 = regress_ov2.predict(x_ovc_test)\n",
    "regress_ov2.score( x_ovc_train ,  y_ovc_train)\n",
    "regress_ov2.score(x_ovc_test ,y_ovc_test)"
   ]
  },
  {
   "cell_type": "code",
   "execution_count": 33,
   "metadata": {},
   "outputs": [
    {
     "data": {
      "text/html": [
       "<table class=\"simpletable\">\n",
       "<caption>OLS Regression Results</caption>\n",
       "<tr>\n",
       "  <th>Dep. Variable:</th>            <td>y</td>        <th>  R-squared:         </th> <td>   0.062</td>\n",
       "</tr>\n",
       "<tr>\n",
       "  <th>Model:</th>                   <td>OLS</td>       <th>  Adj. R-squared:    </th> <td>   0.052</td>\n",
       "</tr>\n",
       "<tr>\n",
       "  <th>Method:</th>             <td>Least Squares</td>  <th>  F-statistic:       </th> <td>   6.401</td>\n",
       "</tr>\n",
       "<tr>\n",
       "  <th>Date:</th>             <td>Tue, 09 Mar 2021</td> <th>  Prob (F-statistic):</th>  <td>0.0130</td> \n",
       "</tr>\n",
       "<tr>\n",
       "  <th>Time:</th>                 <td>22:15:52</td>     <th>  Log-Likelihood:    </th> <td> -137.31</td>\n",
       "</tr>\n",
       "<tr>\n",
       "  <th>No. Observations:</th>      <td>    99</td>      <th>  AIC:               </th> <td>   278.6</td>\n",
       "</tr>\n",
       "<tr>\n",
       "  <th>Df Residuals:</th>          <td>    97</td>      <th>  BIC:               </th> <td>   283.8</td>\n",
       "</tr>\n",
       "<tr>\n",
       "  <th>Df Model:</th>              <td>     1</td>      <th>                     </th>     <td> </td>   \n",
       "</tr>\n",
       "<tr>\n",
       "  <th>Covariance Type:</th>      <td>nonrobust</td>    <th>                     </th>     <td> </td>   \n",
       "</tr>\n",
       "</table>\n",
       "<table class=\"simpletable\">\n",
       "<tr>\n",
       "    <td></td>       <th>coef</th>     <th>std err</th>      <th>t</th>      <th>P>|t|</th>  <th>[0.025</th>    <th>0.975]</th>  \n",
       "</tr>\n",
       "<tr>\n",
       "  <th>const</th> <td> 1.457e-16</td> <td>    0.098</td> <td> 1.48e-15</td> <td> 1.000</td> <td>   -0.195</td> <td>    0.195</td>\n",
       "</tr>\n",
       "<tr>\n",
       "  <th>x1</th>    <td>   -0.2488</td> <td>    0.098</td> <td>   -2.530</td> <td> 0.013</td> <td>   -0.444</td> <td>   -0.054</td>\n",
       "</tr>\n",
       "</table>\n",
       "<table class=\"simpletable\">\n",
       "<tr>\n",
       "  <th>Omnibus:</th>       <td> 7.635</td> <th>  Durbin-Watson:     </th> <td>   0.819</td>\n",
       "</tr>\n",
       "<tr>\n",
       "  <th>Prob(Omnibus):</th> <td> 0.022</td> <th>  Jarque-Bera (JB):  </th> <td>   6.776</td>\n",
       "</tr>\n",
       "<tr>\n",
       "  <th>Skew:</th>          <td> 0.561</td> <th>  Prob(JB):          </th> <td>  0.0338</td>\n",
       "</tr>\n",
       "<tr>\n",
       "  <th>Kurtosis:</th>      <td> 2.380</td> <th>  Cond. No.          </th> <td>    1.00</td>\n",
       "</tr>\n",
       "</table><br/><br/>Warnings:<br/>[1] Standard Errors assume that the covariance matrix of the errors is correctly specified."
      ],
      "text/plain": [
       "<class 'statsmodels.iolib.summary.Summary'>\n",
       "\"\"\"\n",
       "                            OLS Regression Results                            \n",
       "==============================================================================\n",
       "Dep. Variable:                      y   R-squared:                       0.062\n",
       "Model:                            OLS   Adj. R-squared:                  0.052\n",
       "Method:                 Least Squares   F-statistic:                     6.401\n",
       "Date:                Tue, 09 Mar 2021   Prob (F-statistic):             0.0130\n",
       "Time:                        22:15:52   Log-Likelihood:                -137.31\n",
       "No. Observations:                  99   AIC:                             278.6\n",
       "Df Residuals:                      97   BIC:                             283.8\n",
       "Df Model:                           1                                         \n",
       "Covariance Type:            nonrobust                                         \n",
       "==============================================================================\n",
       "                 coef    std err          t      P>|t|      [0.025      0.975]\n",
       "------------------------------------------------------------------------------\n",
       "const       1.457e-16      0.098   1.48e-15      1.000      -0.195       0.195\n",
       "x1            -0.2488      0.098     -2.530      0.013      -0.444      -0.054\n",
       "==============================================================================\n",
       "Omnibus:                        7.635   Durbin-Watson:                   0.819\n",
       "Prob(Omnibus):                  0.022   Jarque-Bera (JB):                6.776\n",
       "Skew:                           0.561   Prob(JB):                       0.0338\n",
       "Kurtosis:                       2.380   Cond. No.                         1.00\n",
       "==============================================================================\n",
       "\n",
       "Warnings:\n",
       "[1] Standard Errors assume that the covariance matrix of the errors is correctly specified.\n",
       "\"\"\""
      ]
     },
     "execution_count": 33,
     "metadata": {},
     "output_type": "execute_result"
    }
   ],
   "source": [
    "#ittration3\n",
    "x_ov= x[:, [0,3]]\n",
    "regress_OLS = sm.OLS(endog = y, exog = x_ov).fit()\n",
    "regress_OLS. summary()"
   ]
  },
  {
   "cell_type": "code",
   "execution_count": 34,
   "metadata": {},
   "outputs": [],
   "source": [
    "x_ovc=x_ov[:,1:]\n",
    "x_ovc_train , x_ovc_test , y_ovc_train , y_ovc_test = train_test_split(x_ovc , y , test_size=.30 , random_state= 0)"
   ]
  },
  {
   "cell_type": "code",
   "execution_count": 35,
   "metadata": {},
   "outputs": [],
   "source": [
    "from sklearn.preprocessing import StandardScaler\n",
    "sc_x3 = StandardScaler()\n",
    "x_ovc_train = sc_x3.fit_transform(x_ovc_train)\n",
    "x_ovc_test = sc_x3.fit_transform(x_ovc_test)"
   ]
  },
  {
   "cell_type": "code",
   "execution_count": 36,
   "metadata": {},
   "outputs": [],
   "source": [
    "y_ovc_train= y_ovc_train.reshape(-1, 1)\n",
    "y_ovc_test = y_ovc_test.reshape(-1, 1)\n",
    "sc_y3 = StandardScaler()\n",
    "y_ovc_train= sc_y3.fit_transform(y_ovc_train)\n",
    "y_ovc_test= sc_y3.fit_transform(y_ovc_test)"
   ]
  },
  {
   "cell_type": "code",
   "execution_count": 37,
   "metadata": {},
   "outputs": [
    {
     "data": {
      "text/plain": [
       "-0.04540393406916232"
      ]
     },
     "execution_count": 37,
     "metadata": {},
     "output_type": "execute_result"
    }
   ],
   "source": [
    "regress_ov3 = LinearRegression()\n",
    "regress_ov3.fit(x_ovc_train  ,  y_ovc_train)\n",
    "y_pred3 = regress_ov3.predict(x_ovc_test)\n",
    "regress_ov3.score( x_ovc_train ,  y_ovc_train)\n",
    "regress_ov3.score(x_ovc_test ,y_ovc_test)"
   ]
  },
  {
   "cell_type": "code",
   "execution_count": 38,
   "metadata": {},
   "outputs": [
    {
     "data": {
      "text/html": [
       "<table class=\"simpletable\">\n",
       "<caption>OLS Regression Results</caption>\n",
       "<tr>\n",
       "  <th>Dep. Variable:</th>            <td>y</td>        <th>  R-squared (uncentered):</th>      <td>   0.224</td>\n",
       "</tr>\n",
       "<tr>\n",
       "  <th>Model:</th>                   <td>OLS</td>       <th>  Adj. R-squared (uncentered):</th> <td>   0.208</td>\n",
       "</tr>\n",
       "<tr>\n",
       "  <th>Method:</th>             <td>Least Squares</td>  <th>  F-statistic:       </th>          <td>   13.99</td>\n",
       "</tr>\n",
       "<tr>\n",
       "  <th>Date:</th>             <td>Tue, 09 Mar 2021</td> <th>  Prob (F-statistic):</th>          <td>4.60e-06</td>\n",
       "</tr>\n",
       "<tr>\n",
       "  <th>Time:</th>                 <td>22:15:52</td>     <th>  Log-Likelihood:    </th>          <td> -127.93</td>\n",
       "</tr>\n",
       "<tr>\n",
       "  <th>No. Observations:</th>      <td>    99</td>      <th>  AIC:               </th>          <td>   259.9</td>\n",
       "</tr>\n",
       "<tr>\n",
       "  <th>Df Residuals:</th>          <td>    97</td>      <th>  BIC:               </th>          <td>   265.1</td>\n",
       "</tr>\n",
       "<tr>\n",
       "  <th>Df Model:</th>              <td>     2</td>      <th>                     </th>              <td> </td>   \n",
       "</tr>\n",
       "<tr>\n",
       "  <th>Covariance Type:</th>      <td>nonrobust</td>    <th>                     </th>              <td> </td>   \n",
       "</tr>\n",
       "</table>\n",
       "<table class=\"simpletable\">\n",
       "<tr>\n",
       "   <td></td>     <th>coef</th>     <th>std err</th>      <th>t</th>      <th>P>|t|</th>  <th>[0.025</th>    <th>0.975]</th>  \n",
       "</tr>\n",
       "<tr>\n",
       "  <th>x1</th> <td>    0.5614</td> <td>    0.125</td> <td>    4.499</td> <td> 0.000</td> <td>    0.314</td> <td>    0.809</td>\n",
       "</tr>\n",
       "<tr>\n",
       "  <th>x2</th> <td>    0.1426</td> <td>    0.125</td> <td>    1.143</td> <td> 0.256</td> <td>   -0.105</td> <td>    0.390</td>\n",
       "</tr>\n",
       "</table>\n",
       "<table class=\"simpletable\">\n",
       "<tr>\n",
       "  <th>Omnibus:</th>       <td> 1.246</td> <th>  Durbin-Watson:     </th> <td>   1.212</td>\n",
       "</tr>\n",
       "<tr>\n",
       "  <th>Prob(Omnibus):</th> <td> 0.536</td> <th>  Jarque-Bera (JB):  </th> <td>   1.269</td>\n",
       "</tr>\n",
       "<tr>\n",
       "  <th>Skew:</th>          <td> 0.259</td> <th>  Prob(JB):          </th> <td>   0.530</td>\n",
       "</tr>\n",
       "<tr>\n",
       "  <th>Kurtosis:</th>      <td> 2.802</td> <th>  Cond. No.          </th> <td>    2.37</td>\n",
       "</tr>\n",
       "</table><br/><br/>Warnings:<br/>[1] Standard Errors assume that the covariance matrix of the errors is correctly specified."
      ],
      "text/plain": [
       "<class 'statsmodels.iolib.summary.Summary'>\n",
       "\"\"\"\n",
       "                                 OLS Regression Results                                \n",
       "=======================================================================================\n",
       "Dep. Variable:                      y   R-squared (uncentered):                   0.224\n",
       "Model:                            OLS   Adj. R-squared (uncentered):              0.208\n",
       "Method:                 Least Squares   F-statistic:                              13.99\n",
       "Date:                Tue, 09 Mar 2021   Prob (F-statistic):                    4.60e-06\n",
       "Time:                        22:15:52   Log-Likelihood:                         -127.93\n",
       "No. Observations:                  99   AIC:                                      259.9\n",
       "Df Residuals:                      97   BIC:                                      265.1\n",
       "Df Model:                           2                                                  \n",
       "Covariance Type:            nonrobust                                                  \n",
       "==============================================================================\n",
       "                 coef    std err          t      P>|t|      [0.025      0.975]\n",
       "------------------------------------------------------------------------------\n",
       "x1             0.5614      0.125      4.499      0.000       0.314       0.809\n",
       "x2             0.1426      0.125      1.143      0.256      -0.105       0.390\n",
       "==============================================================================\n",
       "Omnibus:                        1.246   Durbin-Watson:                   1.212\n",
       "Prob(Omnibus):                  0.536   Jarque-Bera (JB):                1.269\n",
       "Skew:                           0.259   Prob(JB):                        0.530\n",
       "Kurtosis:                       2.802   Cond. No.                         2.37\n",
       "==============================================================================\n",
       "\n",
       "Warnings:\n",
       "[1] Standard Errors assume that the covariance matrix of the errors is correctly specified.\n",
       "\"\"\""
      ]
     },
     "execution_count": 38,
     "metadata": {},
     "output_type": "execute_result"
    }
   ],
   "source": [
    "#ittration4\n",
    "x_ov= x[:, [1,3]]\n",
    "regress_OLS = sm.OLS(endog = y, exog = x_ov).fit()\n",
    "regress_OLS. summary()"
   ]
  },
  {
   "cell_type": "code",
   "execution_count": 39,
   "metadata": {},
   "outputs": [],
   "source": [
    "x_ovc=x_ov[:,1:]\n",
    "x_ovc_train , x_ovc_test , y_ovc_train , y_ovc_test = train_test_split(x_ovc , y , test_size=.30 , random_state= 0)"
   ]
  },
  {
   "cell_type": "code",
   "execution_count": 40,
   "metadata": {},
   "outputs": [],
   "source": [
    "from sklearn.preprocessing import StandardScaler\n",
    "sc_x4 = StandardScaler()\n",
    "x_ovc_train = sc_x4.fit_transform(x_ovc_train)\n",
    "x_ovc_test = sc_x4.fit_transform(x_ovc_test)"
   ]
  },
  {
   "cell_type": "code",
   "execution_count": 41,
   "metadata": {},
   "outputs": [],
   "source": [
    "y_ovc_train= y_ovc_train.reshape(-1, 1)\n",
    "y_ovc_test = y_ovc_test.reshape(-1, 1)\n",
    "sc_y4 = StandardScaler()\n",
    "y_ovc_train= sc_y4.fit_transform(y_ovc_train)\n",
    "y_ovc_test= sc_y4.fit_transform(y_ovc_test)"
   ]
  },
  {
   "cell_type": "code",
   "execution_count": 42,
   "metadata": {},
   "outputs": [
    {
     "data": {
      "text/plain": [
       "-0.04540393406916232"
      ]
     },
     "execution_count": 42,
     "metadata": {},
     "output_type": "execute_result"
    }
   ],
   "source": [
    "regress_ov4 = LinearRegression()\n",
    "regress_ov4.fit(x_ovc_train  ,  y_ovc_train)\n",
    "y_pred4 = regress_ov4.predict(x_ovc_test)\n",
    "regress_ov4.score( x_ovc_train ,  y_ovc_train)\n",
    "regress_ov4.score(x_ovc_test ,y_ovc_test)"
   ]
  }
 ],
 "metadata": {
  "kernelspec": {
   "display_name": "Python 3",
   "language": "python",
   "name": "python3"
  },
  "language_info": {
   "codemirror_mode": {
    "name": "ipython",
    "version": 3
   },
   "file_extension": ".py",
   "mimetype": "text/x-python",
   "name": "python",
   "nbconvert_exporter": "python",
   "pygments_lexer": "ipython3",
   "version": "3.8.3"
  }
 },
 "nbformat": 4,
 "nbformat_minor": 4
}
